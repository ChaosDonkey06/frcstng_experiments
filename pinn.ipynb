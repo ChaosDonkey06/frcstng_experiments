{
 "cells": [
  {
   "cell_type": "code",
   "execution_count": 2,
   "metadata": {},
   "outputs": [],
   "source": [
    "import seaborn as sns\n",
    "import pandas as pd\n",
    "import numpy as np\n",
    "import numpyro\n",
    "import sys\n",
    "\n",
    "import pandas as pd\n",
    "import numpy as np\n",
    "\n",
    "\n",
    "URL_DEATHS = \"https://raw.githubusercontent.com/reichlab/covid19-forecast-hub/master/data-truth/truth-Incident%20Deaths.csv\"\n",
    "URL_CASES  = \"https://raw.githubusercontent.com/reichlab/covid19-forecast-hub/master/data-truth/truth-Incident%20Cases.csv\"\n",
    "URL_LOC    = \"https://raw.githubusercontent.com/reichlab/covid19-forecast-hub/master/data-locations/locations.csv\"\n",
    "\n",
    "df_cases  = pd.read_csv(URL_CASES)\n",
    "df_deaths = pd.read_csv(URL_DEATHS)\n",
    "df_loc    = pd.read_csv(URL_LOC)\n",
    "\n",
    "cases  = df_cases.set_index('location_name').join(df_loc.set_index('location_name'), how='left',lsuffix='test')\n",
    "deaths = df_deaths.set_index('location_name').join(df_loc.set_index('location_name'), how='left',lsuffix='test')\n",
    "\n",
    "# merge incident data in one dataframe\n",
    "data_df = cases.set_index('date').join(deaths.set_index('date'), how='left',lsuffix='cases',rsuffix='deaths')"
   ]
  },
  {
   "cell_type": "code",
   "execution_count": null,
   "metadata": {},
   "outputs": [
    {
     "ename": "NameError",
     "evalue": "name 'data_df' is not defined",
     "output_type": "error",
     "traceback": [
      "\u001b[0;31m---------------------------------------------------------------------------\u001b[0m",
      "\u001b[0;31mNameError\u001b[0m                                 Traceback (most recent call last)",
      "\u001b[0;32m/var/folders/7p/jp6xqkvn5wb6ddl1fn0bhs980000gn/T/ipykernel_66964/3852538173.py\u001b[0m in \u001b[0;36m<module>\u001b[0;34m\u001b[0m\n\u001b[0;32m----> 1\u001b[0;31m \u001b[0mdata_df\u001b[0m\u001b[0;34m\u001b[0m\u001b[0;34m\u001b[0m\u001b[0m\n\u001b[0m",
      "\u001b[0;31mNameError\u001b[0m: name 'data_df' is not defined"
     ]
    }
   ],
   "source": [
    "data_df\n"
   ]
  },
  {
   "cell_type": "code",
   "execution_count": null,
   "metadata": {},
   "outputs": [],
   "source": []
  }
 ],
 "metadata": {
  "interpreter": {
   "hash": "574dadffd7a64c0fd8dffb1c55414219139ca02322c8f7cd93c896672936a7f7"
  },
  "kernelspec": {
   "display_name": "Python 3.8.2 ('base')",
   "language": "python",
   "name": "python3"
  },
  "language_info": {
   "codemirror_mode": {
    "name": "ipython",
    "version": 3
   },
   "file_extension": ".py",
   "mimetype": "text/x-python",
   "name": "python",
   "nbconvert_exporter": "python",
   "pygments_lexer": "ipython3",
   "version": "3.8.2"
  },
  "orig_nbformat": 4
 },
 "nbformat": 4,
 "nbformat_minor": 2
}
